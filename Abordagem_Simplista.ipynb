{
 "cells": [
  {
   "cell_type": "markdown",
   "metadata": {},
   "source": [
    "# KDD 2009 - Tratamento de dados simplista\n",
    "Como parte do exercício de resolução do KDD Cup de 2009 criamos este notebook para realizar um teste do modelo preditivo sem fazer grandes alterações nos dados originais. A análise completa pode ser vista [aqui](./KDD2009.ipynb).\n",
    "\n",
    "O objetivo é ter um parâmetro de comparação com o modelo entregue, que utiliza o **vtreat** para gerar um plano de tratamento das variáveis do KDD Cup 2009, para cada uma dos resultados desejados (*appetency*, *churn* e *up-selling*).\n",
    "\n",
    "Os únicos tratamentos serão:\n",
    "- Remoção das variáveis nulas (sem nenhum valor válido)\n",
    "- Conversão das variáveis categóricas para valores numéricos\n",
    "\n",
    "Os valores NA do conjunto de dados serão mantidos como estão."
   ]
  },
  {
   "cell_type": "code",
   "execution_count": 1,
   "metadata": {
    "collapsed": true
   },
   "outputs": [],
   "source": [
    "dados <- read.table('orange_small_train.data', sep='\\t', header=T, na.strings=c(''))"
   ]
  },
  {
   "cell_type": "code",
   "execution_count": 2,
   "metadata": {
    "collapsed": true
   },
   "outputs": [],
   "source": [
    "# Leitura dos rótulos dos dados\n",
    "appetency <- read.table('orange_small_train_appetency.labels', sep='\\t', header=F, col.names=c(\"appetency\"))\n",
    "churn <- read.table('orange_small_train_churn.labels', sep='\\t', header=F, col.names=c(\"churn\"))\n",
    "upselling <- read.table('orange_small_train_upselling.labels', sep='\\t', header=F, col.names=c(\"upselling\"))\n",
    "\n",
    "# Inclusão dos rótulos no conjunto de dados como colunas adicionais\n",
    "dados$appetency <- appetency$appetency\n",
    "dados$churn <- churn$churn\n",
    "dados$upselling <- upselling$upselling"
   ]
  },
  {
   "cell_type": "code",
   "execution_count": 3,
   "metadata": {
    "collapsed": true
   },
   "outputs": [],
   "source": [
    "# Inclusão de bibliotecas\n",
    "library('vtreat')\n",
    "library('ggplot2')\n",
    "library('parallel')\n",
    "library('WVPlots')\n",
    "library('xgboost')\n",
    "library('Metrics')"
   ]
  },
  {
   "cell_type": "code",
   "execution_count": 4,
   "metadata": {
    "collapsed": true
   },
   "outputs": [],
   "source": [
    "# Colunas de resultado\n",
    "resultados <- c(\"appetency\", \"churn\", \"upselling\")\n",
    "# Colunas de variaveis\n",
    "variaveis <- setdiff(colnames(dados), resultados)"
   ]
  },
  {
   "cell_type": "markdown",
   "metadata": {},
   "source": [
    "# Conversão dos valores dos rótulos\n",
    "Convertemos os valores originais dos rótulos (*appetency*, *churn* e *upselling*) de -1 (negativo) e 1 (positivo) para FALSE e TRUE, respectivamente."
   ]
  },
  {
   "cell_type": "code",
   "execution_count": 5,
   "metadata": {
    "collapsed": true
   },
   "outputs": [],
   "source": [
    "dados[['appetency']] <- dados[['appetency']]==1\n",
    "dados[['churn']] <- dados[['churn']]==1\n",
    "dados[['upselling']] <- dados[['upselling']]==1"
   ]
  },
  {
   "cell_type": "code",
   "execution_count": 6,
   "metadata": {},
   "outputs": [
    {
     "data": {
      "text/html": [
       "<table>\n",
       "<thead><tr><th scope=col>appetency</th><th scope=col>churn</th><th scope=col>upselling</th></tr></thead>\n",
       "<tbody>\n",
       "\t<tr><td>FALSE</td><td>FALSE</td><td>FALSE</td></tr>\n",
       "\t<tr><td>FALSE</td><td> TRUE</td><td>FALSE</td></tr>\n",
       "\t<tr><td>FALSE</td><td>FALSE</td><td>FALSE</td></tr>\n",
       "\t<tr><td>FALSE</td><td>FALSE</td><td>FALSE</td></tr>\n",
       "\t<tr><td>FALSE</td><td>FALSE</td><td>FALSE</td></tr>\n",
       "\t<tr><td>FALSE</td><td>FALSE</td><td>FALSE</td></tr>\n",
       "</tbody>\n",
       "</table>\n"
      ],
      "text/latex": [
       "\\begin{tabular}{r|lll}\n",
       " appetency & churn & upselling\\\\\n",
       "\\hline\n",
       "\t FALSE & FALSE & FALSE\\\\\n",
       "\t FALSE &  TRUE & FALSE\\\\\n",
       "\t FALSE & FALSE & FALSE\\\\\n",
       "\t FALSE & FALSE & FALSE\\\\\n",
       "\t FALSE & FALSE & FALSE\\\\\n",
       "\t FALSE & FALSE & FALSE\\\\\n",
       "\\end{tabular}\n"
      ],
      "text/markdown": [
       "\n",
       "appetency | churn | upselling | \n",
       "|---|---|---|---|---|---|\n",
       "| FALSE | FALSE | FALSE | \n",
       "| FALSE |  TRUE | FALSE | \n",
       "| FALSE | FALSE | FALSE | \n",
       "| FALSE | FALSE | FALSE | \n",
       "| FALSE | FALSE | FALSE | \n",
       "| FALSE | FALSE | FALSE | \n",
       "\n",
       "\n"
      ],
      "text/plain": [
       "  appetency churn upselling\n",
       "1 FALSE     FALSE FALSE    \n",
       "2 FALSE      TRUE FALSE    \n",
       "3 FALSE     FALSE FALSE    \n",
       "4 FALSE     FALSE FALSE    \n",
       "5 FALSE     FALSE FALSE    \n",
       "6 FALSE     FALSE FALSE    "
      ]
     },
     "metadata": {},
     "output_type": "display_data"
    }
   ],
   "source": [
    "head(dados[resultados])"
   ]
  },
  {
   "cell_type": "code",
   "execution_count": 7,
   "metadata": {
    "collapsed": true
   },
   "outputs": [],
   "source": [
    "variaveisCategoricas <- variaveis[sapply(dados[,variaveis], class) %in% c('factor', 'character')]"
   ]
  },
  {
   "cell_type": "code",
   "execution_count": 8,
   "metadata": {
    "collapsed": true
   },
   "outputs": [],
   "source": [
    "variaveisNumericas <- variaveis[sapply(dados[,variaveis], class) %in% c('numeric', 'integer')]"
   ]
  },
  {
   "cell_type": "code",
   "execution_count": 9,
   "metadata": {
    "collapsed": true
   },
   "outputs": [],
   "source": [
    "variaveisOutras <- setdiff(variaveis, union(variaveisNumericas, variaveisCategoricas))"
   ]
  },
  {
   "cell_type": "code",
   "execution_count": 10,
   "metadata": {},
   "outputs": [
    {
     "data": {
      "text/plain": [
       "   Var8          Var15          Var20          Var31          Var32        \n",
       " Mode:logical   Mode:logical   Mode:logical   Mode:logical   Mode:logical  \n",
       " NA's:50000     NA's:50000     NA's:50000     NA's:50000     NA's:50000    \n",
       "  Var39          Var42          Var48          Var52          Var55        \n",
       " Mode:logical   Mode:logical   Mode:logical   Mode:logical   Mode:logical  \n",
       " NA's:50000     NA's:50000     NA's:50000     NA's:50000     NA's:50000    \n",
       "  Var79          Var141         Var167         Var169         Var175       \n",
       " Mode:logical   Mode:logical   Mode:logical   Mode:logical   Mode:logical  \n",
       " NA's:50000     NA's:50000     NA's:50000     NA's:50000     NA's:50000    \n",
       "  Var185         Var209         Var230       \n",
       " Mode:logical   Mode:logical   Mode:logical  \n",
       " NA's:50000     NA's:50000     NA's:50000    "
      ]
     },
     "metadata": {},
     "output_type": "display_data"
    }
   ],
   "source": [
    "summary(dados[variaveisOutras])"
   ]
  },
  {
   "cell_type": "markdown",
   "metadata": {},
   "source": [
    "# Remoção de variáveis\n",
    "Remoção das variáveis nulas (sem valor) dos dados. Na prática seria suficiente atualizar a lista de variáveis que serão passadas para o modelo preditivo sem estas variáveis."
   ]
  },
  {
   "cell_type": "code",
   "execution_count": 11,
   "metadata": {
    "collapsed": true
   },
   "outputs": [],
   "source": [
    "remover <- !names(dados) %in% c(variaveisOutras)"
   ]
  },
  {
   "cell_type": "code",
   "execution_count": 12,
   "metadata": {
    "collapsed": true
   },
   "outputs": [],
   "source": [
    "dados <- dados[remover]"
   ]
  },
  {
   "cell_type": "code",
   "execution_count": 13,
   "metadata": {},
   "outputs": [
    {
     "data": {
      "text/html": [
       "<table>\n",
       "<thead><tr><th scope=col>Var1</th><th scope=col>Var2</th><th scope=col>Var3</th><th scope=col>Var4</th><th scope=col>Var5</th><th scope=col>Var6</th><th scope=col>Var7</th><th scope=col>Var9</th><th scope=col>Var10</th><th scope=col>Var11</th><th scope=col>⋯</th><th scope=col>Var223</th><th scope=col>Var224</th><th scope=col>Var225</th><th scope=col>Var226</th><th scope=col>Var227</th><th scope=col>Var228</th><th scope=col>Var229</th><th scope=col>appetency</th><th scope=col>churn</th><th scope=col>upselling</th></tr></thead>\n",
       "<tbody>\n",
       "\t<tr><td>NA           </td><td>NA           </td><td>NA           </td><td>NA           </td><td>NA           </td><td>1526         </td><td>7            </td><td>NA           </td><td>NA           </td><td>NA           </td><td>⋯            </td><td>jySVZNlOJy   </td><td>NA           </td><td>NA           </td><td>xb3V         </td><td>RAYp         </td><td>F2FyR07IdsN7I</td><td>NA           </td><td>FALSE        </td><td>FALSE        </td><td>FALSE        </td></tr>\n",
       "\t<tr><td>NA           </td><td>NA           </td><td>NA           </td><td>NA           </td><td>NA           </td><td> 525         </td><td>0            </td><td>NA           </td><td>NA           </td><td>NA           </td><td>⋯            </td><td>LM8l689qOp   </td><td>NA           </td><td>NA           </td><td>fKCe         </td><td>RAYp         </td><td>F2FyR07IdsN7I</td><td>NA           </td><td>FALSE        </td><td> TRUE        </td><td>FALSE        </td></tr>\n",
       "\t<tr><td>NA           </td><td>NA           </td><td>NA           </td><td>NA           </td><td>NA           </td><td>5236         </td><td>7            </td><td>NA           </td><td>NA           </td><td>NA           </td><td>⋯            </td><td>jySVZNlOJy   </td><td>NA           </td><td>kG3k         </td><td>Qu4f         </td><td>02N6s8f      </td><td>ib5G6X1eUxUn6</td><td>am7c         </td><td>FALSE        </td><td>FALSE        </td><td>FALSE        </td></tr>\n",
       "\t<tr><td>NA           </td><td>NA           </td><td>NA           </td><td>NA           </td><td>NA           </td><td>  NA         </td><td>0            </td><td>NA           </td><td>NA           </td><td>NA           </td><td>⋯            </td><td>LM8l689qOp   </td><td>NA           </td><td>NA           </td><td>FSa2         </td><td>RAYp         </td><td>F2FyR07IdsN7I</td><td>NA           </td><td>FALSE        </td><td>FALSE        </td><td>FALSE        </td></tr>\n",
       "\t<tr><td>NA           </td><td>NA           </td><td>NA           </td><td>NA           </td><td>NA           </td><td>1029         </td><td>7            </td><td>NA           </td><td>NA           </td><td>NA           </td><td>⋯            </td><td>LM8l689qOp   </td><td>NA           </td><td>kG3k         </td><td>FSa2         </td><td>RAYp         </td><td>F2FyR07IdsN7I</td><td>mj86         </td><td>FALSE        </td><td>FALSE        </td><td>FALSE        </td></tr>\n",
       "\t<tr><td>NA           </td><td>NA           </td><td>NA           </td><td>NA           </td><td>NA           </td><td> 658         </td><td>7            </td><td>NA           </td><td>NA           </td><td>NA           </td><td>⋯            </td><td>LM8l689qOp   </td><td>NA           </td><td>NA           </td><td>Qcbd         </td><td>02N6s8f      </td><td>Zy3gnGM      </td><td>am7c         </td><td>FALSE        </td><td>FALSE        </td><td>FALSE        </td></tr>\n",
       "</tbody>\n",
       "</table>\n"
      ],
      "text/latex": [
       "\\begin{tabular}{r|lllllllllllllllllllllllllllllllllllllllllllllllllllllllllllllllllllllllllllllllllllllllllllllllllllllllllllllllllllllllllllllllllllllllllllllllllllllllllllllllllllllllllllllllllllllllllllllllllllllllllllllllllllllll}\n",
       " Var1 & Var2 & Var3 & Var4 & Var5 & Var6 & Var7 & Var9 & Var10 & Var11 & ⋯ & Var223 & Var224 & Var225 & Var226 & Var227 & Var228 & Var229 & appetency & churn & upselling\\\\\n",
       "\\hline\n",
       "\t NA            & NA            & NA            & NA            & NA            & 1526          & 7             & NA            & NA            & NA            & ⋯             & jySVZNlOJy    & NA            & NA            & xb3V          & RAYp          & F2FyR07IdsN7I & NA            & FALSE         & FALSE         & FALSE        \\\\\n",
       "\t NA            & NA            & NA            & NA            & NA            &  525          & 0             & NA            & NA            & NA            & ⋯             & LM8l689qOp    & NA            & NA            & fKCe          & RAYp          & F2FyR07IdsN7I & NA            & FALSE         &  TRUE         & FALSE        \\\\\n",
       "\t NA            & NA            & NA            & NA            & NA            & 5236          & 7             & NA            & NA            & NA            & ⋯             & jySVZNlOJy    & NA            & kG3k          & Qu4f          & 02N6s8f       & ib5G6X1eUxUn6 & am7c          & FALSE         & FALSE         & FALSE        \\\\\n",
       "\t NA            & NA            & NA            & NA            & NA            &   NA          & 0             & NA            & NA            & NA            & ⋯             & LM8l689qOp    & NA            & NA            & FSa2          & RAYp          & F2FyR07IdsN7I & NA            & FALSE         & FALSE         & FALSE        \\\\\n",
       "\t NA            & NA            & NA            & NA            & NA            & 1029          & 7             & NA            & NA            & NA            & ⋯             & LM8l689qOp    & NA            & kG3k          & FSa2          & RAYp          & F2FyR07IdsN7I & mj86          & FALSE         & FALSE         & FALSE        \\\\\n",
       "\t NA            & NA            & NA            & NA            & NA            &  658          & 7             & NA            & NA            & NA            & ⋯             & LM8l689qOp    & NA            & NA            & Qcbd          & 02N6s8f       & Zy3gnGM       & am7c          & FALSE         & FALSE         & FALSE        \\\\\n",
       "\\end{tabular}\n"
      ],
      "text/markdown": [
       "\n",
       "Var1 | Var2 | Var3 | Var4 | Var5 | Var6 | Var7 | Var9 | Var10 | Var11 | ⋯ | Var223 | Var224 | Var225 | Var226 | Var227 | Var228 | Var229 | appetency | churn | upselling | \n",
       "|---|---|---|---|---|---|\n",
       "| NA            | NA            | NA            | NA            | NA            | 1526          | 7             | NA            | NA            | NA            | ⋯             | jySVZNlOJy    | NA            | NA            | xb3V          | RAYp          | F2FyR07IdsN7I | NA            | FALSE         | FALSE         | FALSE         | \n",
       "| NA            | NA            | NA            | NA            | NA            |  525          | 0             | NA            | NA            | NA            | ⋯             | LM8l689qOp    | NA            | NA            | fKCe          | RAYp          | F2FyR07IdsN7I | NA            | FALSE         |  TRUE         | FALSE         | \n",
       "| NA            | NA            | NA            | NA            | NA            | 5236          | 7             | NA            | NA            | NA            | ⋯             | jySVZNlOJy    | NA            | kG3k          | Qu4f          | 02N6s8f       | ib5G6X1eUxUn6 | am7c          | FALSE         | FALSE         | FALSE         | \n",
       "| NA            | NA            | NA            | NA            | NA            |   NA          | 0             | NA            | NA            | NA            | ⋯             | LM8l689qOp    | NA            | NA            | FSa2          | RAYp          | F2FyR07IdsN7I | NA            | FALSE         | FALSE         | FALSE         | \n",
       "| NA            | NA            | NA            | NA            | NA            | 1029          | 7             | NA            | NA            | NA            | ⋯             | LM8l689qOp    | NA            | kG3k          | FSa2          | RAYp          | F2FyR07IdsN7I | mj86          | FALSE         | FALSE         | FALSE         | \n",
       "| NA            | NA            | NA            | NA            | NA            |  658          | 7             | NA            | NA            | NA            | ⋯             | LM8l689qOp    | NA            | NA            | Qcbd          | 02N6s8f       | Zy3gnGM       | am7c          | FALSE         | FALSE         | FALSE         | \n",
       "\n",
       "\n"
      ],
      "text/plain": [
       "  Var1 Var2 Var3 Var4 Var5 Var6 Var7 Var9 Var10 Var11 ⋯ Var223     Var224\n",
       "1 NA   NA   NA   NA   NA   1526 7    NA   NA    NA    ⋯ jySVZNlOJy NA    \n",
       "2 NA   NA   NA   NA   NA    525 0    NA   NA    NA    ⋯ LM8l689qOp NA    \n",
       "3 NA   NA   NA   NA   NA   5236 7    NA   NA    NA    ⋯ jySVZNlOJy NA    \n",
       "4 NA   NA   NA   NA   NA     NA 0    NA   NA    NA    ⋯ LM8l689qOp NA    \n",
       "5 NA   NA   NA   NA   NA   1029 7    NA   NA    NA    ⋯ LM8l689qOp NA    \n",
       "6 NA   NA   NA   NA   NA    658 7    NA   NA    NA    ⋯ LM8l689qOp NA    \n",
       "  Var225 Var226 Var227  Var228        Var229 appetency churn upselling\n",
       "1 NA     xb3V   RAYp    F2FyR07IdsN7I NA     FALSE     FALSE FALSE    \n",
       "2 NA     fKCe   RAYp    F2FyR07IdsN7I NA     FALSE      TRUE FALSE    \n",
       "3 kG3k   Qu4f   02N6s8f ib5G6X1eUxUn6 am7c   FALSE     FALSE FALSE    \n",
       "4 NA     FSa2   RAYp    F2FyR07IdsN7I NA     FALSE     FALSE FALSE    \n",
       "5 kG3k   FSa2   RAYp    F2FyR07IdsN7I mj86   FALSE     FALSE FALSE    \n",
       "6 NA     Qcbd   02N6s8f Zy3gnGM       am7c   FALSE     FALSE FALSE    "
      ]
     },
     "metadata": {},
     "output_type": "display_data"
    }
   ],
   "source": [
    "head(dados)"
   ]
  },
  {
   "cell_type": "markdown",
   "metadata": {},
   "source": [
    "# Conversão de variáveis categóricas para numéricas\n",
    "Para poder utilizar os dados no **XGBoost** é necessário converter as variáveis categóricas para numéricas. Este passo não é necessário explicitamente com o **vtreat**."
   ]
  },
  {
   "cell_type": "code",
   "execution_count": 14,
   "metadata": {
    "collapsed": true
   },
   "outputs": [],
   "source": [
    "for (variavel in variaveisCategoricas) {\n",
    "    dados[variavel] <- as.numeric(dados[,variavel])\n",
    "} "
   ]
  },
  {
   "cell_type": "code",
   "execution_count": 15,
   "metadata": {},
   "outputs": [
    {
     "data": {
      "text/html": [
       "<table>\n",
       "<thead><tr><th scope=col>Var1</th><th scope=col>Var2</th><th scope=col>Var3</th><th scope=col>Var4</th><th scope=col>Var5</th><th scope=col>Var6</th><th scope=col>Var7</th><th scope=col>Var9</th><th scope=col>Var10</th><th scope=col>Var11</th><th scope=col>⋯</th><th scope=col>Var223</th><th scope=col>Var224</th><th scope=col>Var225</th><th scope=col>Var226</th><th scope=col>Var227</th><th scope=col>Var228</th><th scope=col>Var229</th><th scope=col>appetency</th><th scope=col>churn</th><th scope=col>upselling</th></tr></thead>\n",
       "<tbody>\n",
       "\t<tr><td>NA   </td><td>NA   </td><td>NA   </td><td>NA   </td><td>NA   </td><td>1526 </td><td>7    </td><td>NA   </td><td>NA   </td><td>NA   </td><td>⋯    </td><td>2    </td><td>NA   </td><td>NA   </td><td>23   </td><td>5    </td><td>14   </td><td>NA   </td><td>FALSE</td><td>FALSE</td><td>FALSE</td></tr>\n",
       "\t<tr><td>NA   </td><td>NA   </td><td>NA   </td><td>NA   </td><td>NA   </td><td> 525 </td><td>0    </td><td>NA   </td><td>NA   </td><td>NA   </td><td>⋯    </td><td>3    </td><td>NA   </td><td>NA   </td><td> 8   </td><td>5    </td><td>14   </td><td>NA   </td><td>FALSE</td><td> TRUE</td><td>FALSE</td></tr>\n",
       "\t<tr><td>NA   </td><td>NA   </td><td>NA   </td><td>NA   </td><td>NA   </td><td>5236 </td><td>7    </td><td>NA   </td><td>NA   </td><td>NA   </td><td>⋯    </td><td>2    </td><td>NA   </td><td> 2   </td><td>14   </td><td>1    </td><td>15   </td><td> 1   </td><td>FALSE</td><td>FALSE</td><td>FALSE</td></tr>\n",
       "\t<tr><td>NA   </td><td>NA   </td><td>NA   </td><td>NA   </td><td>NA   </td><td>  NA </td><td>0    </td><td>NA   </td><td>NA   </td><td>NA   </td><td>⋯    </td><td>3    </td><td>NA   </td><td>NA   </td><td> 9   </td><td>5    </td><td>14   </td><td>NA   </td><td>FALSE</td><td>FALSE</td><td>FALSE</td></tr>\n",
       "\t<tr><td>NA   </td><td>NA   </td><td>NA   </td><td>NA   </td><td>NA   </td><td>1029 </td><td>7    </td><td>NA   </td><td>NA   </td><td>NA   </td><td>⋯    </td><td>3    </td><td>NA   </td><td> 2   </td><td> 9   </td><td>5    </td><td>14   </td><td> 2   </td><td>FALSE</td><td>FALSE</td><td>FALSE</td></tr>\n",
       "\t<tr><td>NA   </td><td>NA   </td><td>NA   </td><td>NA   </td><td>NA   </td><td> 658 </td><td>7    </td><td>NA   </td><td>NA   </td><td>NA   </td><td>⋯    </td><td>3    </td><td>NA   </td><td>NA   </td><td>13   </td><td>1    </td><td>30   </td><td> 1   </td><td>FALSE</td><td>FALSE</td><td>FALSE</td></tr>\n",
       "</tbody>\n",
       "</table>\n"
      ],
      "text/latex": [
       "\\begin{tabular}{r|lllllllllllllllllllllllllllllllllllllllllllllllllllllllllllllllllllllllllllllllllllllllllllllllllllllllllllllllllllllllllllllllllllllllllllllllllllllllllllllllllllllllllllllllllllllllllllllllllllllllllllllllllllllll}\n",
       " Var1 & Var2 & Var3 & Var4 & Var5 & Var6 & Var7 & Var9 & Var10 & Var11 & ⋯ & Var223 & Var224 & Var225 & Var226 & Var227 & Var228 & Var229 & appetency & churn & upselling\\\\\n",
       "\\hline\n",
       "\t NA    & NA    & NA    & NA    & NA    & 1526  & 7     & NA    & NA    & NA    & ⋯     & 2     & NA    & NA    & 23    & 5     & 14    & NA    & FALSE & FALSE & FALSE\\\\\n",
       "\t NA    & NA    & NA    & NA    & NA    &  525  & 0     & NA    & NA    & NA    & ⋯     & 3     & NA    & NA    &  8    & 5     & 14    & NA    & FALSE &  TRUE & FALSE\\\\\n",
       "\t NA    & NA    & NA    & NA    & NA    & 5236  & 7     & NA    & NA    & NA    & ⋯     & 2     & NA    &  2    & 14    & 1     & 15    &  1    & FALSE & FALSE & FALSE\\\\\n",
       "\t NA    & NA    & NA    & NA    & NA    &   NA  & 0     & NA    & NA    & NA    & ⋯     & 3     & NA    & NA    &  9    & 5     & 14    & NA    & FALSE & FALSE & FALSE\\\\\n",
       "\t NA    & NA    & NA    & NA    & NA    & 1029  & 7     & NA    & NA    & NA    & ⋯     & 3     & NA    &  2    &  9    & 5     & 14    &  2    & FALSE & FALSE & FALSE\\\\\n",
       "\t NA    & NA    & NA    & NA    & NA    &  658  & 7     & NA    & NA    & NA    & ⋯     & 3     & NA    & NA    & 13    & 1     & 30    &  1    & FALSE & FALSE & FALSE\\\\\n",
       "\\end{tabular}\n"
      ],
      "text/markdown": [
       "\n",
       "Var1 | Var2 | Var3 | Var4 | Var5 | Var6 | Var7 | Var9 | Var10 | Var11 | ⋯ | Var223 | Var224 | Var225 | Var226 | Var227 | Var228 | Var229 | appetency | churn | upselling | \n",
       "|---|---|---|---|---|---|\n",
       "| NA    | NA    | NA    | NA    | NA    | 1526  | 7     | NA    | NA    | NA    | ⋯     | 2     | NA    | NA    | 23    | 5     | 14    | NA    | FALSE | FALSE | FALSE | \n",
       "| NA    | NA    | NA    | NA    | NA    |  525  | 0     | NA    | NA    | NA    | ⋯     | 3     | NA    | NA    |  8    | 5     | 14    | NA    | FALSE |  TRUE | FALSE | \n",
       "| NA    | NA    | NA    | NA    | NA    | 5236  | 7     | NA    | NA    | NA    | ⋯     | 2     | NA    |  2    | 14    | 1     | 15    |  1    | FALSE | FALSE | FALSE | \n",
       "| NA    | NA    | NA    | NA    | NA    |   NA  | 0     | NA    | NA    | NA    | ⋯     | 3     | NA    | NA    |  9    | 5     | 14    | NA    | FALSE | FALSE | FALSE | \n",
       "| NA    | NA    | NA    | NA    | NA    | 1029  | 7     | NA    | NA    | NA    | ⋯     | 3     | NA    |  2    |  9    | 5     | 14    |  2    | FALSE | FALSE | FALSE | \n",
       "| NA    | NA    | NA    | NA    | NA    |  658  | 7     | NA    | NA    | NA    | ⋯     | 3     | NA    | NA    | 13    | 1     | 30    |  1    | FALSE | FALSE | FALSE | \n",
       "\n",
       "\n"
      ],
      "text/plain": [
       "  Var1 Var2 Var3 Var4 Var5 Var6 Var7 Var9 Var10 Var11 ⋯ Var223 Var224 Var225\n",
       "1 NA   NA   NA   NA   NA   1526 7    NA   NA    NA    ⋯ 2      NA     NA    \n",
       "2 NA   NA   NA   NA   NA    525 0    NA   NA    NA    ⋯ 3      NA     NA    \n",
       "3 NA   NA   NA   NA   NA   5236 7    NA   NA    NA    ⋯ 2      NA      2    \n",
       "4 NA   NA   NA   NA   NA     NA 0    NA   NA    NA    ⋯ 3      NA     NA    \n",
       "5 NA   NA   NA   NA   NA   1029 7    NA   NA    NA    ⋯ 3      NA      2    \n",
       "6 NA   NA   NA   NA   NA    658 7    NA   NA    NA    ⋯ 3      NA     NA    \n",
       "  Var226 Var227 Var228 Var229 appetency churn upselling\n",
       "1 23     5      14     NA     FALSE     FALSE FALSE    \n",
       "2  8     5      14     NA     FALSE      TRUE FALSE    \n",
       "3 14     1      15      1     FALSE     FALSE FALSE    \n",
       "4  9     5      14     NA     FALSE     FALSE FALSE    \n",
       "5  9     5      14      2     FALSE     FALSE FALSE    \n",
       "6 13     1      30      1     FALSE     FALSE FALSE    "
      ]
     },
     "metadata": {},
     "output_type": "display_data"
    }
   ],
   "source": [
    "head(dados)"
   ]
  },
  {
   "cell_type": "code",
   "execution_count": 16,
   "metadata": {},
   "outputs": [
    {
     "data": {
      "text/html": [
       "<table>\n",
       "<thead><tr><th></th><th scope=col>Var1</th><th scope=col>Var2</th><th scope=col>Var3</th><th scope=col>Var4</th><th scope=col>Var5</th><th scope=col>Var6</th><th scope=col>Var7</th><th scope=col>Var9</th><th scope=col>Var10</th><th scope=col>Var11</th><th scope=col>⋯</th><th scope=col>Var223</th><th scope=col>Var224</th><th scope=col>Var225</th><th scope=col>Var226</th><th scope=col>Var227</th><th scope=col>Var228</th><th scope=col>Var229</th><th scope=col>appetency</th><th scope=col>churn</th><th scope=col>upselling</th></tr></thead>\n",
       "<tbody>\n",
       "\t<tr><th scope=row>49995</th><td>NA   </td><td>NA   </td><td>NA   </td><td>NA   </td><td>NA   </td><td> 266 </td><td> 0   </td><td>NA   </td><td>NA   </td><td>NA   </td><td>⋯    </td><td>3    </td><td>NA   </td><td>NA   </td><td>23   </td><td>5    </td><td>14   </td><td>NA   </td><td>FALSE</td><td>FALSE</td><td>FALSE</td></tr>\n",
       "\t<tr><th scope=row>49996</th><td>NA   </td><td>NA   </td><td>NA   </td><td>NA   </td><td>NA   </td><td> 357 </td><td> 0   </td><td>NA   </td><td>NA   </td><td>NA   </td><td>⋯    </td><td>3    </td><td>NA   </td><td>NA   </td><td> 5   </td><td>5    </td><td>14   </td><td>NA   </td><td> TRUE</td><td>FALSE</td><td>FALSE</td></tr>\n",
       "\t<tr><th scope=row>49997</th><td>NA   </td><td>NA   </td><td>NA   </td><td>NA   </td><td>NA   </td><td>1078 </td><td> 0   </td><td>NA   </td><td>NA   </td><td>NA   </td><td>⋯    </td><td>3    </td><td>NA   </td><td> 2   </td><td> 9   </td><td>5    </td><td> 5   </td><td> 1   </td><td> TRUE</td><td>FALSE</td><td>FALSE</td></tr>\n",
       "\t<tr><th scope=row>49998</th><td>NA   </td><td>NA   </td><td>NA   </td><td>NA   </td><td>NA   </td><td>2807 </td><td> 7   </td><td>NA   </td><td>NA   </td><td>NA   </td><td>⋯    </td><td>3    </td><td>NA   </td><td> 1   </td><td> 8   </td><td>5    </td><td>24   </td><td>NA   </td><td>FALSE</td><td>FALSE</td><td>FALSE</td></tr>\n",
       "\t<tr><th scope=row>49999</th><td>NA   </td><td>NA   </td><td>NA   </td><td> 0   </td><td>NA   </td><td>  NA </td><td>NA   </td><td>NA   </td><td>NA   </td><td>NA   </td><td>⋯    </td><td>3    </td><td>NA   </td><td>NA   </td><td> 9   </td><td>5    </td><td>14   </td><td>NA   </td><td>FALSE</td><td>FALSE</td><td>FALSE</td></tr>\n",
       "\t<tr><th scope=row>50000</th><td>NA   </td><td>NA   </td><td>NA   </td><td>NA   </td><td>NA   </td><td>1694 </td><td> 7   </td><td>NA   </td><td>NA   </td><td>NA   </td><td>⋯    </td><td>3    </td><td>NA   </td><td>NA   </td><td>23   </td><td>5    </td><td>14   </td><td>NA   </td><td>FALSE</td><td>FALSE</td><td> TRUE</td></tr>\n",
       "</tbody>\n",
       "</table>\n"
      ],
      "text/latex": [
       "\\begin{tabular}{r|lllllllllllllllllllllllllllllllllllllllllllllllllllllllllllllllllllllllllllllllllllllllllllllllllllllllllllllllllllllllllllllllllllllllllllllllllllllllllllllllllllllllllllllllllllllllllllllllllllllllllllllllllllllll}\n",
       "  & Var1 & Var2 & Var3 & Var4 & Var5 & Var6 & Var7 & Var9 & Var10 & Var11 & ⋯ & Var223 & Var224 & Var225 & Var226 & Var227 & Var228 & Var229 & appetency & churn & upselling\\\\\n",
       "\\hline\n",
       "\t49995 & NA    & NA    & NA    & NA    & NA    &  266  &  0    & NA    & NA    & NA    & ⋯     & 3     & NA    & NA    & 23    & 5     & 14    & NA    & FALSE & FALSE & FALSE\\\\\n",
       "\t49996 & NA    & NA    & NA    & NA    & NA    &  357  &  0    & NA    & NA    & NA    & ⋯     & 3     & NA    & NA    &  5    & 5     & 14    & NA    &  TRUE & FALSE & FALSE\\\\\n",
       "\t49997 & NA    & NA    & NA    & NA    & NA    & 1078  &  0    & NA    & NA    & NA    & ⋯     & 3     & NA    &  2    &  9    & 5     &  5    &  1    &  TRUE & FALSE & FALSE\\\\\n",
       "\t49998 & NA    & NA    & NA    & NA    & NA    & 2807  &  7    & NA    & NA    & NA    & ⋯     & 3     & NA    &  1    &  8    & 5     & 24    & NA    & FALSE & FALSE & FALSE\\\\\n",
       "\t49999 & NA    & NA    & NA    &  0    & NA    &   NA  & NA    & NA    & NA    & NA    & ⋯     & 3     & NA    & NA    &  9    & 5     & 14    & NA    & FALSE & FALSE & FALSE\\\\\n",
       "\t50000 & NA    & NA    & NA    & NA    & NA    & 1694  &  7    & NA    & NA    & NA    & ⋯     & 3     & NA    & NA    & 23    & 5     & 14    & NA    & FALSE & FALSE &  TRUE\\\\\n",
       "\\end{tabular}\n"
      ],
      "text/markdown": [
       "\n",
       "| <!--/--> | Var1 | Var2 | Var3 | Var4 | Var5 | Var6 | Var7 | Var9 | Var10 | Var11 | ⋯ | Var223 | Var224 | Var225 | Var226 | Var227 | Var228 | Var229 | appetency | churn | upselling | \n",
       "|---|---|---|---|---|---|\n",
       "| 49995 | NA    | NA    | NA    | NA    | NA    |  266  |  0    | NA    | NA    | NA    | ⋯     | 3     | NA    | NA    | 23    | 5     | 14    | NA    | FALSE | FALSE | FALSE | \n",
       "| 49996 | NA    | NA    | NA    | NA    | NA    |  357  |  0    | NA    | NA    | NA    | ⋯     | 3     | NA    | NA    |  5    | 5     | 14    | NA    |  TRUE | FALSE | FALSE | \n",
       "| 49997 | NA    | NA    | NA    | NA    | NA    | 1078  |  0    | NA    | NA    | NA    | ⋯     | 3     | NA    |  2    |  9    | 5     |  5    |  1    |  TRUE | FALSE | FALSE | \n",
       "| 49998 | NA    | NA    | NA    | NA    | NA    | 2807  |  7    | NA    | NA    | NA    | ⋯     | 3     | NA    |  1    |  8    | 5     | 24    | NA    | FALSE | FALSE | FALSE | \n",
       "| 49999 | NA    | NA    | NA    |  0    | NA    |   NA  | NA    | NA    | NA    | NA    | ⋯     | 3     | NA    | NA    |  9    | 5     | 14    | NA    | FALSE | FALSE | FALSE | \n",
       "| 50000 | NA    | NA    | NA    | NA    | NA    | 1694  |  7    | NA    | NA    | NA    | ⋯     | 3     | NA    | NA    | 23    | 5     | 14    | NA    | FALSE | FALSE |  TRUE | \n",
       "\n",
       "\n"
      ],
      "text/plain": [
       "      Var1 Var2 Var3 Var4 Var5 Var6 Var7 Var9 Var10 Var11 ⋯ Var223 Var224\n",
       "49995 NA   NA   NA   NA   NA    266  0   NA   NA    NA    ⋯ 3      NA    \n",
       "49996 NA   NA   NA   NA   NA    357  0   NA   NA    NA    ⋯ 3      NA    \n",
       "49997 NA   NA   NA   NA   NA   1078  0   NA   NA    NA    ⋯ 3      NA    \n",
       "49998 NA   NA   NA   NA   NA   2807  7   NA   NA    NA    ⋯ 3      NA    \n",
       "49999 NA   NA   NA    0   NA     NA NA   NA   NA    NA    ⋯ 3      NA    \n",
       "50000 NA   NA   NA   NA   NA   1694  7   NA   NA    NA    ⋯ 3      NA    \n",
       "      Var225 Var226 Var227 Var228 Var229 appetency churn upselling\n",
       "49995 NA     23     5      14     NA     FALSE     FALSE FALSE    \n",
       "49996 NA      5     5      14     NA      TRUE     FALSE FALSE    \n",
       "49997  2      9     5       5      1      TRUE     FALSE FALSE    \n",
       "49998  1      8     5      24     NA     FALSE     FALSE FALSE    \n",
       "49999 NA      9     5      14     NA     FALSE     FALSE FALSE    \n",
       "50000 NA     23     5      14     NA     FALSE     FALSE  TRUE    "
      ]
     },
     "metadata": {},
     "output_type": "display_data"
    }
   ],
   "source": [
    "tail(dados)"
   ]
  },
  {
   "cell_type": "code",
   "execution_count": 17,
   "metadata": {},
   "outputs": [
    {
     "data": {
      "text/plain": [
       "      Var1             Var2            Var3               Var4      \n",
       " Min.   :  0.00   Min.   :0       Min.   :     0.0   Min.   : 0.00  \n",
       " 1st Qu.:  0.00   1st Qu.:0       1st Qu.:     0.0   1st Qu.: 0.00  \n",
       " Median :  0.00   Median :0       Median :     0.0   Median : 0.00  \n",
       " Mean   : 11.49   Mean   :0       Mean   :   425.3   Mean   : 0.13  \n",
       " 3rd Qu.: 16.00   3rd Qu.:0       3rd Qu.:     0.0   3rd Qu.: 0.00  \n",
       " Max.   :680.00   Max.   :5       Max.   :130668.0   Max.   :27.00  \n",
       " NA's   :49298    NA's   :48759   NA's   :48760      NA's   :48421  \n",
       "      Var5              Var6             Var7              Var9        \n",
       " Min.   :      0   Min.   :     0   Min.   :  0.000   Min.   :   0.00  \n",
       " 1st Qu.:      0   1st Qu.:   518   1st Qu.:  0.000   1st Qu.:   4.00  \n",
       " Median :      0   Median :   861   Median :  7.000   Median :  20.00  \n",
       " Mean   : 238793   Mean   :  1326   Mean   :  6.809   Mean   :  48.15  \n",
       " 3rd Qu.: 118742   3rd Qu.:  1428   3rd Qu.:  7.000   3rd Qu.:  46.00  \n",
       " Max.   :6048550   Max.   :131761   Max.   :140.000   Max.   :2300.00  \n",
       " NA's   :48513     NA's   :5529     NA's   :5539      NA's   :49298    \n",
       "     Var10              Var11           Var12             Var13       \n",
       " Min.   :       0   Min.   : 8.00   Min.   :   0.00   Min.   :     0  \n",
       " 1st Qu.:       0   1st Qu.: 8.00   1st Qu.:   0.00   1st Qu.:     0  \n",
       " Median :       0   Median : 8.00   Median :   0.00   Median :   232  \n",
       " Mean   :  392606   Mean   : 8.63   Mean   :  16.07   Mean   :  1250  \n",
       " 3rd Qu.:  262863   3rd Qu.: 8.00   3rd Qu.:  16.00   3rd Qu.:  1604  \n",
       " Max.   :12325590   Max.   :40.00   Max.   :1184.00   Max.   :197872  \n",
       " NA's   :48513      NA's   :48760   NA's   :49442     NA's   :5539    \n",
       "     Var14           Var16            Var17             Var18       \n",
       " Min.   : 0.00   Min.   :  0.00   Min.   :   0.00   Min.   :  0.00  \n",
       " 1st Qu.: 0.00   1st Qu.: 51.92   1st Qu.:   0.00   1st Qu.:  0.00  \n",
       " Median : 0.00   Median :131.08   Median :   0.00   Median :  0.00  \n",
       " Mean   : 0.74   Mean   :120.24   Mean   :  11.39   Mean   :  7.22  \n",
       " 3rd Qu.: 0.00   3rd Qu.:170.08   3rd Qu.:  10.00   3rd Qu.:  0.00  \n",
       " Max.   :48.00   Max.   :434.92   Max.   :1220.00   Max.   :948.00  \n",
       " NA's   :48760   NA's   :48513    NA's   :48421     NA's   :48421   \n",
       "     Var19           Var21             Var22             Var23        \n",
       " Min.   : 0.00   Min.   :    0.0   Min.   :    0.0   Min.   :   0.00  \n",
       " 1st Qu.: 0.00   1st Qu.:  112.0   1st Qu.:  135.0   1st Qu.:   0.00  \n",
       " Median : 0.00   Median :  144.0   Median :  180.0   Median :   0.00  \n",
       " Mean   : 0.25   Mean   :  234.5   Mean   :  290.2   Mean   :   7.54  \n",
       " 3rd Qu.: 0.00   3rd Qu.:  228.0   3rd Qu.:  285.0   3rd Qu.:   5.00  \n",
       " Max.   :27.00   Max.   :36272.0   Max.   :45340.0   Max.   :1555.00  \n",
       " NA's   :48421   NA's   :5529      NA's   :5009      NA's   :48513    \n",
       "     Var24             Var25              Var26           Var27      \n",
       " Min.   :  0.000   Min.   :    0.00   Min.   :0.00    Min.   :0.00   \n",
       " 1st Qu.:  0.000   1st Qu.:   16.00   1st Qu.:0.00    1st Qu.:0.00   \n",
       " Median :  2.000   Median :   48.00   Median :0.00    Median :0.00   \n",
       " Mean   :  4.508   Mean   :   96.83   Mean   :0.07    Mean   :0.03   \n",
       " 3rd Qu.:  6.000   3rd Qu.:  112.00   3rd Qu.:0.00    3rd Qu.:0.00   \n",
       " Max.   :494.000   Max.   :13168.00   Max.   :9.00    Max.   :4.00   \n",
       " NA's   :7230      NA's   :5009       NA's   :48513   NA's   :48513  \n",
       "     Var28             Var29           Var30           Var33         \n",
       " Min.   : -66.88   Min.   :0.00    Min.   : 0.00   Min.   :       0  \n",
       " 1st Qu.: 166.56   1st Qu.:0.00    1st Qu.: 0.00   1st Qu.:       0  \n",
       " Median : 220.08   Median :0.00    Median : 5.00   Median :       0  \n",
       " Mean   : 224.51   Mean   :0.02    Mean   : 7.44   Mean   :  127005  \n",
       " 3rd Qu.: 266.40   3rd Qu.:0.00    3rd Qu.:10.00   3rd Qu.:   72972  \n",
       " Max.   :5158.56   Max.   :2.00    Max.   :95.00   Max.   :10886400  \n",
       " NA's   :5011      NA's   :49298   NA's   :49298   NA's   :49153     \n",
       "     Var34           Var35             Var36             Var37         \n",
       " Min.   : 0.00   Min.   :  0.000   Min.   :      0   Min.   :       0  \n",
       " 1st Qu.: 0.00   1st Qu.:  0.000   1st Qu.:      0   1st Qu.:       0  \n",
       " Median : 0.00   Median :  0.000   Median :      0   Median :       0  \n",
       " Mean   : 1.17   Mean   :  0.717   Mean   : 159554   Mean   :  648522  \n",
       " 3rd Qu.: 0.00   3rd Qu.:  0.000   3rd Qu.: 158794   3rd Qu.:  683226  \n",
       " Max.   :56.00   Max.   :110.000   Max.   :2419600   Max.   :11635020  \n",
       " NA's   :48759   NA's   :5009      NA's   :48759     NA's   :48421     \n",
       "     Var38              Var40             Var41            Var43       \n",
       " Min.   :       0   Min.   :   0.00   Min.   :  0.00   Min.   :  0.00  \n",
       " 1st Qu.:    7794   1st Qu.:   0.00   1st Qu.:  0.00   1st Qu.:  0.00  \n",
       " Median : 1290246   Median :   0.00   Median :  7.00   Median :  0.00  \n",
       " Mean   : 2579107   Mean   :  13.96   Mean   : 26.65   Mean   :  4.16  \n",
       " 3rd Qu.: 4570944   3rd Qu.:   8.00   3rd Qu.: 28.00   3rd Qu.:  0.00  \n",
       " Max.   :18846900   Max.   :2648.00   Max.   :728.00   Max.   :625.00  \n",
       " NA's   :5009       NA's   :48759     NA's   :49298    NA's   :48759   \n",
       "     Var44             Var45           Var46            Var47       \n",
       " Min.   :  0.000   Min.   :    0   Min.   :   0.0   Min.   :  0.00  \n",
       " 1st Qu.:  0.000   1st Qu.: 1254   1st Qu.:   0.0   1st Qu.:  0.00  \n",
       " Median :  0.000   Median : 4202   Median :   0.0   Median :  0.00  \n",
       " Mean   :  0.167   Mean   : 7256   Mean   :  16.8   Mean   :  2.19  \n",
       " 3rd Qu.:  0.000   3rd Qu.:10594   3rd Qu.:  16.0   3rd Qu.:  0.00  \n",
       " Max.   :135.000   Max.   :60553   Max.   :1668.0   Max.   :168.00  \n",
       " NA's   :5009      NA's   :49656   NA's   :48759    NA's   :49298   \n",
       "     Var49           Var50             Var51            Var53         \n",
       " Min.   : 0.00   Min.   :   0.00   Min.   :     0   Min.   :       0  \n",
       " 1st Qu.: 0.00   1st Qu.:   0.00   1st Qu.:  2983   1st Qu.:       0  \n",
       " Median : 0.00   Median :   0.00   Median : 10270   Median :   74884  \n",
       " Mean   : 0.09   Mean   :  35.69   Mean   : 43652   Mean   :  654326  \n",
       " 3rd Qu.: 0.00   3rd Qu.:   5.00   3rd Qu.: 48780   3rd Qu.:  718796  \n",
       " Max.   :18.00   Max.   :1660.00   Max.   :347806   Max.   :12513150  \n",
       " NA's   :48759   NA's   :49298     NA's   :46253    NA's   :49298     \n",
       "     Var54           Var56             Var57              Var58        \n",
       " Min.   : 0.00   Min.   :      0   Min.   :0.000214   Min.   :      0  \n",
       " 1st Qu.: 0.00   1st Qu.:      0   1st Qu.:1.743164   1st Qu.:      0  \n",
       " Median : 0.00   Median :      0   Median :3.514740   Median :      0  \n",
       " Mean   : 4.79   Mean   :  87965   Mean   :3.512311   Mean   : 164061  \n",
       " 3rd Qu.: 8.00   3rd Qu.:  45491   3rd Qu.:5.264741   3rd Qu.:  70228  \n",
       " Max.   :32.00   Max.   :3012970   Max.   :7.000000   Max.   :9676800  \n",
       " NA's   :48759   NA's   :49354                        NA's   :49298    \n",
       "     Var59             Var60             Var61             Var62      \n",
       " Min.   :      0   Min.   :   0.00   Min.   :   0.00   Min.   :  0.0  \n",
       " 1st Qu.:      0   1st Qu.:   0.00   1st Qu.:   0.00   1st Qu.:  0.0  \n",
       " Median : 157254   Median :   0.00   Median :  16.00   Median :  0.0  \n",
       " Mean   : 414597   Mean   :   9.54   Mean   :  40.46   Mean   :  5.1  \n",
       " 3rd Qu.: 531993   3rd Qu.:   6.00   3rd Qu.:  32.00   3rd Qu.:  0.0  \n",
       " Max.   :5443200   Max.   :1215.00   Max.   :4624.00   Max.   :441.0  \n",
       " NA's   :49180     NA's   :48513     NA's   :49153     NA's   :49442  \n",
       "     Var63            Var64            Var65            Var66        \n",
       " Min.   :   0.0   Min.   :     0   Min.   :  9.00   Min.   :   0.00  \n",
       " 1st Qu.:   0.0   1st Qu.:  3917   1st Qu.:  9.00   1st Qu.:   8.00  \n",
       " Median :  12.0   Median : 14755   Median :  9.00   Median :  40.00  \n",
       " Mean   :  40.2   Mean   : 26526   Mean   : 14.87   Mean   :  96.84  \n",
       " 3rd Qu.:  36.0   3rd Qu.: 39063   3rd Qu.: 18.00   3rd Qu.:  92.00  \n",
       " Max.   :2952.0   Max.   :223728   Max.   :180.00   Max.   :4600.00  \n",
       " NA's   :49306    NA's   :49762    NA's   :5539     NA's   :49306    \n",
       "     Var67           Var68             Var69              Var70        \n",
       " Min.   :0.00    Min.   :    0.0   Min.   :       0   Min.   :      0  \n",
       " 1st Qu.:0.00    1st Qu.:    0.0   1st Qu.:       0   1st Qu.:      0  \n",
       " Median :0.00    Median :    7.0   Median :  480636   Median :      0  \n",
       " Mean   :0.02    Mean   :   85.6   Mean   : 3531945   Mean   : 400341  \n",
       " 3rd Qu.:0.00    3rd Qu.:   91.0   3rd Qu.: 6241545   3rd Qu.: 367392  \n",
       " Max.   :5.00    Max.   :11921.0   Max.   :18741870   Max.   :6189690  \n",
       " NA's   :48513   NA's   :48759     NA's   :48513      NA's   :48513    \n",
       "     Var71             Var72            Var73            Var74         \n",
       " Min.   :    0.0   Min.   : 3.000   Min.   :  4.00   Min.   :     0.0  \n",
       " 1st Qu.:    0.0   1st Qu.: 3.000   1st Qu.: 24.00   1st Qu.:     0.0  \n",
       " Median :   42.0   Median : 3.000   Median : 52.00   Median :     7.0  \n",
       " Mean   :  137.1   Mean   : 4.191   Mean   : 66.64   Mean   :   103.7  \n",
       " 3rd Qu.:  126.0   3rd Qu.: 6.000   3rd Qu.:102.00   3rd Qu.:    84.0  \n",
       " Max.   :14106.0   Max.   :24.000   Max.   :264.00   Max.   :142156.0  \n",
       " NA's   :48871     NA's   :22380                     NA's   :5539      \n",
       "     Var75           Var76              Var77            Var78       \n",
       " Min.   : 0.0    Min.   :       0   Min.   :  0.00   Min.   : 0.000  \n",
       " 1st Qu.: 0.0    1st Qu.:   89360   1st Qu.:  0.00   1st Qu.: 0.000  \n",
       " Median : 5.0    Median :  882000   Median :  0.00   Median : 0.000  \n",
       " Mean   : 6.5    Mean   : 1490154   Mean   : 10.41   Mean   : 0.535  \n",
       " 3rd Qu.:10.0    3rd Qu.: 2309884   3rd Qu.:  6.00   3rd Qu.: 0.000  \n",
       " Max.   :70.0    Max.   :19353600   Max.   :666.00   Max.   :39.000  \n",
       " NA's   :48759   NA's   :5009       NA's   :49298    NA's   :5009    \n",
       "     Var80             Var81             Var82           Var83        \n",
       " Min.   :      0   Min.   :      0   Min.   :0.00    Min.   :   0.00  \n",
       " 1st Qu.:      0   1st Qu.:  16357   1st Qu.:0.00    1st Qu.:   0.00  \n",
       " Median :      0   Median :  73523   Median :3.00    Median :  10.00  \n",
       " Mean   :  54421   Mean   : 103084   Mean   :2.43    Mean   :  20.02  \n",
       " 3rd Qu.:  12056   3rd Qu.: 181977   3rd Qu.:3.00    3rd Qu.:  25.00  \n",
       " Max.   :3637080   Max.   :1814403   Max.   :9.00    Max.   :6335.00  \n",
       " NA's   :48513     NA's   :5529      NA's   :48421   NA's   :5009     \n",
       "     Var84             Var85              Var86             Var87      \n",
       " Min.   :   0.00   Min.   :   0.000   Min.   :      0   Min.   : 0.00  \n",
       " 1st Qu.:   0.00   1st Qu.:   0.000   1st Qu.:      0   1st Qu.: 0.00  \n",
       " Median :   0.00   Median :   4.000   Median :  56817   Median : 7.00  \n",
       " Mean   :  42.53   Mean   :   8.461   Mean   : 286893   Mean   : 5.42  \n",
       " 3rd Qu.:   0.00   3rd Qu.:  10.000   3rd Qu.: 377992   3rd Qu.: 7.00  \n",
       " Max.   :4160.00   Max.   :1178.000   Max.   :2425840   Max.   :28.00  \n",
       " NA's   :48760     NA's   :5009       NA's   :49298     NA's   :49298  \n",
       "     Var88             Var89            Var90           Var91        \n",
       " Min.   :   0.00   Min.   :  0.00   Min.   :0.00    Min.   :   0.00  \n",
       " 1st Qu.:   0.00   1st Qu.:  0.00   1st Qu.:0.00    1st Qu.:   0.00  \n",
       " Median :  25.00   Median :  0.00   Median :0.00    Median :  28.00  \n",
       " Mean   :  68.95   Mean   :  5.52   Mean   :0.02    Mean   :  91.37  \n",
       " 3rd Qu.:  75.00   3rd Qu.:  6.00   3rd Qu.:0.00    3rd Qu.:  84.00  \n",
       " Max.   :5105.00   Max.   :300.00   Max.   :7.00    Max.   :9404.00  \n",
       " NA's   :48917     NA's   :49354    NA's   :49298   NA's   :48871    \n",
       "     Var92             Var93           Var94             Var95        \n",
       " Min.   :      0   Min.   :2.00    Min.   :      0   Min.   :      0  \n",
       " 1st Qu.:  31297   1st Qu.:2.00    1st Qu.:   8630   1st Qu.:      0  \n",
       " Median :  84938   Median :2.00    Median :  41091   Median :      0  \n",
       " Mean   : 170679   Mean   :2.13    Mean   :  98671   Mean   : 109771  \n",
       " 3rd Qu.: 246662   3rd Qu.:2.00    3rd Qu.: 117353   3rd Qu.:      0  \n",
       " Max.   :1865367   Max.   :8.00    Max.   :5640330   Max.   :3629172  \n",
       " NA's   :49829     NA's   :48513   NA's   :22380     NA's   :48759    \n",
       "     Var96            Var97           Var98             Var99        \n",
       " Min.   :  0.00   Min.   : 0.00   Min.   :      0   Min.   :   0.00  \n",
       " 1st Qu.:  0.00   1st Qu.: 0.00   1st Qu.:      0   1st Qu.:   0.00  \n",
       " Median :  0.00   Median : 0.00   Median :      0   Median :   0.00  \n",
       " Mean   :  4.65   Mean   : 0.92   Mean   :  21295   Mean   :  26.28  \n",
       " 3rd Qu.:  4.00   3rd Qu.: 0.00   3rd Qu.:      0   3rd Qu.:  24.00  \n",
       " Max.   :498.00   Max.   :36.00   Max.   :1245440   Max.   :2848.00  \n",
       " NA's   :48759    NA's   :48513   NA's   :49442     NA's   :48421    \n",
       "     Var100          Var101           Var102           Var103       \n",
       " Min.   : 0.00   Min.   :   0.0   Min.   :     0   Min.   :   0.00  \n",
       " 1st Qu.: 0.00   1st Qu.:   0.0   1st Qu.:  4342   1st Qu.:   0.00  \n",
       " Median : 0.00   Median :   0.0   Median : 17535   Median :   0.00  \n",
       " Mean   : 0.89   Mean   :  19.8   Mean   : 28766   Mean   :  18.78  \n",
       " 3rd Qu.: 0.00   3rd Qu.:  18.0   3rd Qu.: 39793   3rd Qu.:  14.00  \n",
       " Max.   :28.00   Max.   :1755.0   Max.   :279458   Max.   :2002.00  \n",
       " NA's   :49298   NA's   :49127    NA's   :49549    NA's   :48513    \n",
       "     Var104            Var105            Var106            Var107       \n",
       " Min.   :    0.0   Min.   :   0.00   Min.   :      0   Min.   :   0.00  \n",
       " 1st Qu.:    0.0   1st Qu.:   0.00   1st Qu.:      0   1st Qu.:   0.00  \n",
       " Median :   45.0   Median :  30.00   Median :      0   Median :   0.00  \n",
       " Mean   :  100.8   Mean   :  67.19   Mean   :  38164   Mean   :   5.09  \n",
       " 3rd Qu.:  117.0   3rd Qu.:  78.00   3rd Qu.:      0   3rd Qu.:   3.00  \n",
       " Max.   :10152.0   Max.   :6768.00   Max.   :2274345   Max.   :1932.00  \n",
       " NA's   :49180     NA's   :49180     NA's   :48421     NA's   :48513    \n",
       "     Var108            Var109            Var110          Var111       \n",
       " Min.   :      0   Min.   :   0.00   Min.   : 6.00   Min.   :      0  \n",
       " 1st Qu.:      0   1st Qu.:  24.00   1st Qu.: 6.00   1st Qu.:      0  \n",
       " Median :   8338   Median :  32.00   Median : 6.00   Median :  97553  \n",
       " Mean   : 193780   Mean   :  60.89   Mean   : 6.68   Mean   : 284824  \n",
       " 3rd Qu.: 181947   3rd Qu.:  56.00   3rd Qu.: 6.00   3rd Qu.: 384594  \n",
       " Max.   :7257600   Max.   :7456.00   Max.   :30.00   Max.   :3628806  \n",
       " NA's   :49298     NA's   :7230      NA's   :49298   NA's   :48871    \n",
       "     Var112             Var113             Var114            Var115       \n",
       " Min.   :    0.00   Min.   :-9803600   Min.   :      0   Min.   :   0.00  \n",
       " 1st Qu.:   16.00   1st Qu.: -182715   1st Qu.:      0   1st Qu.:   0.00  \n",
       " Median :   40.00   Median :   29615   Median :   6748   Median :   9.00  \n",
       " Mean   :   66.22   Mean   : -153279   Mean   : 608133   Mean   :  37.75  \n",
       " 3rd Qu.:   72.00   3rd Qu.:  147488   3rd Qu.: 962158   3rd Qu.:  36.00  \n",
       " Max.   :10352.00   Max.   : 9932480   Max.   :4493460   Max.   :5337.00  \n",
       " NA's   :5009                          NA's   :48759     NA's   :49180    \n",
       "     Var116          Var117            Var118          Var119        \n",
       " Min.   :0.00    Min.   :      0   Min.   :3       Min.   :     0.0  \n",
       " 1st Qu.:0.00    1st Qu.:      0   1st Qu.:3       1st Qu.:   425.0  \n",
       " Median :0.00    Median :      0   Median :3       Median :   560.0  \n",
       " Mean   :0.06    Mean   : 129837   Mean   :3       Mean   :   916.1  \n",
       " 3rd Qu.:0.00    3rd Qu.: 109729   3rd Qu.:3       3rd Qu.:   895.0  \n",
       " Max.   :3.00    Max.   :2073600   Max.   :3       Max.   :105060.0  \n",
       " NA's   :49298   NA's   :48421     NA's   :49829   NA's   :5529      \n",
       "     Var120            Var121           Var122          Var123        \n",
       " Min.   :   0.00   Min.   :  0.00   Min.   :0.00    Min.   :    0.00  \n",
       " 1st Qu.:   0.00   1st Qu.:  0.00   1st Qu.:0.00    1st Qu.:    6.00  \n",
       " Median :   0.00   Median :  2.00   Median :0.00    Median :   30.00  \n",
       " Mean   :  31.64   Mean   :  6.95   Mean   :0.04    Mean   :   60.19  \n",
       " 3rd Qu.:  24.00   3rd Qu.:  6.00   3rd Qu.:0.00    3rd Qu.:   72.00  \n",
       " Max.   :2502.00   Max.   :672.00   Max.   :6.00    Max.   :13086.00  \n",
       " NA's   :48513     NA's   :49298    NA's   :48759   NA's   :5009      \n",
       "     Var124            Var125            Var126            Var127       \n",
       " Min.   :      0   Min.   :      0   Min.   :-32.000   Min.   :   0.00  \n",
       " 1st Qu.:      0   1st Qu.:    234   1st Qu.:-20.000   1st Qu.:   0.00  \n",
       " Median :      0   Median :   6471   Median :  4.000   Median :   0.00  \n",
       " Mean   : 223079   Mean   :  27888   Mean   : -0.554   Mean   :  28.09  \n",
       " 3rd Qu.:      0   3rd Qu.:  31617   3rd Qu.: 10.000   3rd Qu.:  32.00  \n",
       " Max.   :9676800   Max.   :5436045   Max.   : 68.000   Max.   :2480.00  \n",
       " NA's   :48421     NA's   :5539      NA's   :13920     NA's   :48917    \n",
       "     Var128            Var129           Var130          Var131         \n",
       " Min.   :   0.00   Min.   :  0.00   Min.   :0.0     Min.   :        0  \n",
       " 1st Qu.:   0.00   1st Qu.:  0.00   1st Qu.:0.0     1st Qu.:        0  \n",
       " Median :  35.00   Median :  2.00   Median :0.0     Median :        0  \n",
       " Mean   :  96.53   Mean   : 10.69   Mean   :0.5     Mean   :  4064877  \n",
       " 3rd Qu.: 105.00   3rd Qu.: 10.00   3rd Qu.:0.0     3rd Qu.:        0  \n",
       " Max.   :7147.00   Max.   :636.00   Max.   :3.0     Max.   :442233600  \n",
       " NA's   :48917     NA's   :49298    NA's   :48760   NA's   :49298      \n",
       "     Var132            Var133             Var134            Var135     \n",
       " Min.   :  0.000   Min.   :       0   Min.   :      0   Min.   :  0.0  \n",
       " 1st Qu.:  0.000   1st Qu.:  216808   1st Qu.:  29808   1st Qu.: 23.2  \n",
       " Median :  0.000   Median : 1479810   Median : 208928   Median :225.7  \n",
       " Mean   :  3.525   Mean   : 2273572   Mean   : 437340   Mean   :199.9  \n",
       " 3rd Qu.:  0.000   3rd Qu.: 3604725   3rd Qu.: 614884   3rd Qu.:292.5  \n",
       " Max.   :184.000   Max.   :15009900   Max.   :5735340   Max.   :710.4  \n",
       " NA's   :5009      NA's   :5009       NA's   :5009      NA's   :48421  \n",
       "     Var136            Var137           Var138          Var139       \n",
       " Min.   :      0   Min.   :  0.00   Min.   :0       Min.   :      0  \n",
       " 1st Qu.:   3793   1st Qu.:  0.00   1st Qu.:0       1st Qu.:      0  \n",
       " Median :  46255   Median :  0.00   Median :0       Median :      0  \n",
       " Mean   : 110691   Mean   :  3.83   Mean   :0       Mean   : 181541  \n",
       " 3rd Qu.: 130227   3rd Qu.:  4.00   3rd Qu.:0       3rd Qu.: 147336  \n",
       " Max.   :1209602   Max.   :204.00   Max.   :2       Max.   :2700560  \n",
       " NA's   :49306     NA's   :49298    NA's   :48421   NA's   :48513    \n",
       "     Var140           Var142          Var143           Var144     \n",
       " Min.   :     0   Min.   : 0.00   Min.   : 0.000   Min.   : 0.00  \n",
       " 1st Qu.:     0   1st Qu.: 0.00   1st Qu.: 0.000   1st Qu.: 0.00  \n",
       " Median :   220   Median : 0.00   Median : 0.000   Median : 9.00  \n",
       " Mean   :  1381   Mean   : 1.13   Mean   : 0.058   Mean   :11.73  \n",
       " 3rd Qu.:  1350   3rd Qu.: 4.00   3rd Qu.: 0.000   3rd Qu.:18.00  \n",
       " Max.   :520545   Max.   :12.00   Max.   :18.000   Max.   :81.00  \n",
       " NA's   :5539     NA's   :49298   NA's   :5009     NA's   :5529   \n",
       "     Var145            Var146          Var147          Var148       \n",
       " Min.   :   0.00   Min.   : 0.00   Min.   :0.0     Min.   :    0.0  \n",
       " 1st Qu.:   0.00   1st Qu.: 0.00   1st Qu.:0.0     1st Qu.:    0.0  \n",
       " Median :  12.00   Median : 0.00   Median :2.0     Median :   24.0  \n",
       " Mean   :  58.44   Mean   : 2.78   Mean   :1.7     Mean   :  140.5  \n",
       " 3rd Qu.:  54.00   3rd Qu.: 0.00   3rd Qu.:2.0     3rd Qu.:  128.0  \n",
       " Max.   :6126.00   Max.   :96.00   Max.   :8.0     Max.   :18808.0  \n",
       " NA's   :48421     NA's   :48513   NA's   :48513   NA's   :48513    \n",
       "     Var149             Var150            Var151            Var152     \n",
       " Min.   :       0   Min.   :      0   Min.   :   0.00   Min.   : 0.00  \n",
       " 1st Qu.:       0   1st Qu.:      0   1st Qu.:   0.00   1st Qu.: 0.00  \n",
       " Median :   51898   Median :      0   Median :   0.00   Median : 6.00  \n",
       " Mean   :  294921   Mean   : 157688   Mean   :  11.06   Mean   : 8.31  \n",
       " 3rd Qu.:  412113   3rd Qu.: 112198   3rd Qu.:   8.00   3rd Qu.:12.00  \n",
       " Max.   :16934400   Max.   :6048000   Max.   :1200.00   Max.   :66.00  \n",
       " NA's   :7230       NA's   :48421     NA's   :49153     NA's   :48421  \n",
       "     Var153             Var154             Var155          Var156      \n",
       " Min.   :       0   Min.   :       0   Min.   : 0.0    Min.   :   0.0  \n",
       " 1st Qu.: 1232346   1st Qu.:       0   1st Qu.: 0.0    1st Qu.:  14.0  \n",
       " Median : 8131560   Median :  341524   Median : 0.0    Median :  70.0  \n",
       " Mean   : 6181967   Mean   : 1538221   Mean   : 0.8    Mean   : 169.5  \n",
       " 3rd Qu.:10373380   3rd Qu.: 2267270   3rd Qu.: 0.0    3rd Qu.: 161.0  \n",
       " Max.   :13907800   Max.   :15048560   Max.   :35.0    Max.   :8050.0  \n",
       " NA's   :5009       NA's   :49298      NA's   :48421   NA's   :49306   \n",
       "     Var157            Var158          Var159          Var160      \n",
       " Min.   :   0.00   Min.   : 0.0    Min.   : 0.00   Min.   :   0.0  \n",
       " 1st Qu.:   0.00   1st Qu.: 0.0    1st Qu.: 0.00   1st Qu.:  10.0  \n",
       " Median :   8.00   Median : 0.0    Median : 0.00   Median :  22.0  \n",
       " Mean   :  33.07   Mean   : 1.9    Mean   : 4.71   Mean   :  38.8  \n",
       " 3rd Qu.:  28.00   3rd Qu.: 3.0    3rd Qu.: 0.00   3rd Qu.:  42.0  \n",
       " Max.   :5440.00   Max.   :87.0    Max.   :99.00   Max.   :4862.0  \n",
       " NA's   :48871     NA's   :49127   NA's   :48759   NA's   :5009    \n",
       "     Var161          Var162             Var163             Var164      \n",
       " Min.   : 0.00   Min.   :       0   Min.   :       0   Min.   :  0.00  \n",
       " 1st Qu.: 0.00   1st Qu.:       0   1st Qu.:       0   1st Qu.:  0.00  \n",
       " Median : 0.00   Median :       0   Median :  134622   Median :  0.00  \n",
       " Mean   : 3.37   Mean   :  336017   Mean   :  486078   Mean   :  1.75  \n",
       " 3rd Qu.: 0.00   3rd Qu.:  182556   3rd Qu.:  615900   3rd Qu.:  0.00  \n",
       " Max.   :81.00   Max.   :10886400   Max.   :14515200   Max.   :138.00  \n",
       " NA's   :48421   NA's   :48759      NA's   :5009       NA's   :48421   \n",
       "     Var165            Var166            Var168           Var170      \n",
       " Min.   :      0   Min.   :   0.00   Min.   :   0.0   Min.   :  0.00  \n",
       " 1st Qu.:      0   1st Qu.:   0.00   1st Qu.: 283.4   1st Qu.:  0.00  \n",
       " Median :      0   Median :   0.00   Median : 331.1   Median :  0.00  \n",
       " Mean   :  28842   Mean   :  22.55   Mean   : 332.9   Mean   :  3.04  \n",
       " 3rd Qu.:    276   3rd Qu.:  14.00   3rd Qu.: 383.8   3rd Qu.:  3.00  \n",
       " Max.   :1209600   Max.   :2261.00   Max.   :1270.5   Max.   :957.00  \n",
       " NA's   :49127     NA's   :48513     NA's   :49298    NA's   :48759   \n",
       "     Var171            Var172           Var173          Var174       \n",
       " Min.   :      0   Min.   :  0.00   Min.   :0.000   Min.   :   0.00  \n",
       " 1st Qu.:      0   1st Qu.:  0.00   1st Qu.:0.000   1st Qu.:   0.00  \n",
       " Median : 165488   Median :  7.00   Median :0.000   Median :   0.00  \n",
       " Mean   : 367452   Mean   :  9.74   Mean   :0.007   Mean   :   7.04  \n",
       " 3rd Qu.: 527047   3rd Qu.: 14.00   3rd Qu.:0.000   3rd Qu.:   8.00  \n",
       " Max.   :5443200   Max.   :119.00   Max.   :6.000   Max.   :1156.00  \n",
       " NA's   :48917     NA's   :48513    NA's   :5009    NA's   :48421    \n",
       "     Var176           Var177            Var178            Var179      \n",
       " Min.   :  0.00   Min.   :      0   Min.   :   0.00   Min.   :  0.00  \n",
       " 1st Qu.:  0.00   1st Qu.:      0   1st Qu.:   0.00   1st Qu.:  0.00  \n",
       " Median :  0.00   Median :      0   Median :   5.00   Median :  0.00  \n",
       " Mean   :  4.72   Mean   : 618888   Mean   :  16.69   Mean   :  3.14  \n",
       " 3rd Qu.:  0.00   3rd Qu.: 554414   3rd Qu.:  15.00   3rd Qu.:  0.00  \n",
       " Max.   :892.00   Max.   :8554350   Max.   :1345.00   Max.   :890.00  \n",
       " NA's   :48760    NA's   :48759     NA's   :49354     NA's   :48421   \n",
       "     Var180             Var181           Var182             Var183       \n",
       " Min.   :       0   Min.   : 0.000   Min.   :       0   Min.   :      0  \n",
       " 1st Qu.:  191735   1st Qu.: 0.000   1st Qu.:       0   1st Qu.:      0  \n",
       " Median : 2431310   Median : 0.000   Median :  116778   Median :      0  \n",
       " Mean   : 3776755   Mean   : 0.611   Mean   : 1416638   Mean   :  77774  \n",
       " 3rd Qu.: 6471827   3rd Qu.: 0.000   3rd Qu.: 1844952   3rd Qu.:  48810  \n",
       " Max.   :14284830   Max.   :49.000   Max.   :11994780   Max.   :3048400  \n",
       " NA's   :49298      NA's   :5009     NA's   :48421      NA's   :48759    \n",
       "     Var184            Var186          Var187           Var188      \n",
       " Min.   :   0.00   Min.   :  0.0   Min.   :  0.00   Min.   : -6.42  \n",
       " 1st Qu.:   0.00   1st Qu.:  0.0   1st Qu.:  0.00   1st Qu.: 19.38  \n",
       " Median :   0.00   Median :  0.0   Median :  4.00   Median :197.64  \n",
       " Mean   :   8.46   Mean   :  3.3   Mean   : 16.54   Mean   :167.37  \n",
       " 3rd Qu.:   8.00   3rd Qu.:  6.0   3rd Qu.: 14.00   3rd Qu.:252.96  \n",
       " Max.   :1200.00   Max.   :102.0   Max.   :910.00   Max.   :628.62  \n",
       " NA's   :48759     NA's   :49298   NA's   :49298    NA's   :48759   \n",
       "     Var189          Var190           Var191          Var192     \n",
       " Min.   :  6.0   Min.   :     0   Min.   :1       Min.   :  1.0  \n",
       " 1st Qu.:204.0   1st Qu.:  2733   1st Qu.:1       1st Qu.: 80.0  \n",
       " Median :270.0   Median : 12669   Median :1       Median :170.0  \n",
       " Mean   :270.1   Mean   : 22007   Mean   :1       Mean   :176.6  \n",
       " 3rd Qu.:330.0   3rd Qu.: 29396   3rd Qu.:1       3rd Qu.:275.0  \n",
       " Max.   :642.0   Max.   :230427   Max.   :1       Max.   :361.0  \n",
       " NA's   :28978   NA's   :49667    NA's   :48917   NA's   :369    \n",
       "     Var193          Var194          Var195          Var196     \n",
       " Min.   : 1.00   Min.   :1.00    Min.   : 1.00   Min.   :1.000  \n",
       " 1st Qu.:32.00   1st Qu.:3.00    1st Qu.:19.00   1st Qu.:1.000  \n",
       " Median :38.00   Median :3.00    Median :19.00   Median :1.000  \n",
       " Mean   :30.19   Mean   :2.98    Mean   :18.72   Mean   :1.026  \n",
       " 3rd Qu.:38.00   3rd Qu.:3.00    3rd Qu.:19.00   3rd Qu.:1.000  \n",
       " Max.   :51.00   Max.   :3.00    Max.   :23.00   Max.   :4.000  \n",
       "                 NA's   :37216                                  \n",
       "     Var197          Var198         Var199         Var200          Var201     \n",
       " Min.   :  1.0   Min.   :   1   Min.   :   1   Min.   :    1   Min.   :1      \n",
       " 1st Qu.: 31.0   1st Qu.:1090   1st Qu.:1251   1st Qu.: 3829   1st Qu.:2      \n",
       " Median :116.0   Median :1872   Median :2327   Median : 7696   Median :2      \n",
       " Mean   :106.5   Mean   :2023   Mean   :2408   Mean   : 7716   Mean   :2      \n",
       " 3rd Qu.:171.0   3rd Qu.:2986   3rd Qu.:3454   3rd Qu.:11607   3rd Qu.:2      \n",
       " Max.   :225.0   Max.   :4291   Max.   :5073   Max.   :15415   Max.   :2      \n",
       " NA's   :143                    NA's   :4      NA's   :25408   NA's   :37217  \n",
       "     Var202         Var203          Var204           Var205     \n",
       " Min.   :   1   Min.   :1.000   Min.   :  1.00   Min.   :1.000  \n",
       " 1st Qu.:1476   1st Qu.:1.000   1st Qu.: 32.00   1st Qu.:2.000  \n",
       " Median :2841   Median :1.000   Median : 58.00   Median :3.000  \n",
       " Mean   :2862   Mean   :1.249   Mean   : 54.68   Mean   :2.424  \n",
       " 3rd Qu.:4258   3rd Qu.:1.000   3rd Qu.: 77.00   3rd Qu.:3.000  \n",
       " Max.   :5713   Max.   :5.000   Max.   :100.00   Max.   :3.000  \n",
       " NA's   :1      NA's   :143                      NA's   :1934   \n",
       "     Var206          Var207           Var208          Var210     \n",
       " Min.   : 1.00   Min.   : 1.000   Min.   :1.000   Min.   :1.000  \n",
       " 1st Qu.:12.00   1st Qu.: 9.000   1st Qu.:1.000   1st Qu.:6.000  \n",
       " Median :12.00   Median :10.000   Median :1.000   Median :6.000  \n",
       " Mean   :13.23   Mean   : 8.944   Mean   :1.077   Mean   :5.879  \n",
       " 3rd Qu.:16.00   3rd Qu.:10.000   3rd Qu.:1.000   3rd Qu.:6.000  \n",
       " Max.   :21.00   Max.   :14.000   Max.   :2.000   Max.   :6.000  \n",
       " NA's   :5529                     NA's   :143                    \n",
       "     Var211          Var212          Var213          Var214     \n",
       " Min.   :1.000   Min.   : 1.00   Min.   :1       Min.   :    1  \n",
       " 1st Qu.:1.000   1st Qu.:53.00   1st Qu.:1       1st Qu.: 3768  \n",
       " Median :1.000   Median :53.00   Median :1       Median : 7640  \n",
       " Mean   :1.194   Mean   :50.43   Mean   :1       Mean   : 7656  \n",
       " 3rd Qu.:1.000   3rd Qu.:53.00   3rd Qu.:1       3rd Qu.:11483  \n",
       " Max.   :2.000   Max.   :81.00   Max.   :1       Max.   :15415  \n",
       "                                 NA's   :48871   NA's   :25408  \n",
       "     Var215          Var216           Var217          Var218     \n",
       " Min.   :1       Min.   :   1.0   Min.   :    1   Min.   :1.000  \n",
       " 1st Qu.:1       1st Qu.: 657.8   1st Qu.: 3286   1st Qu.:1.000  \n",
       " Median :1       Median :1073.0   Median : 6685   Median :1.000  \n",
       " Mean   :1       Mean   : 999.2   Mean   : 6904   Mean   :1.486  \n",
       " 3rd Qu.:1       3rd Qu.:1270.0   3rd Qu.:10486   3rd Qu.:2.000  \n",
       " Max.   :1       Max.   :2016.0   Max.   :13990   Max.   :2.000  \n",
       " NA's   :49306                    NA's   :703     NA's   :703    \n",
       "     Var219          Var220         Var221          Var222         Var223     \n",
       " Min.   : 1.00   Min.   :   1   Min.   :1.000   Min.   :   1   Min.   :1.000  \n",
       " 1st Qu.:12.00   1st Qu.: 829   1st Qu.:4.000   1st Qu.:1054   1st Qu.:3.000  \n",
       " Median :12.00   Median :2111   Median :4.000   Median :1830   Median :3.000  \n",
       " Mean   :12.25   Mean   :2069   Mean   :4.191   Mean   :2005   Mean   :2.904  \n",
       " 3rd Qu.:12.00   3rd Qu.:3219   3rd Qu.:4.000   3rd Qu.:3046   3rd Qu.:3.000  \n",
       " Max.   :22.00   Max.   :4291   Max.   :7.000   Max.   :4291   Max.   :4.000  \n",
       " NA's   :5211                                                  NA's   :5211   \n",
       "     Var224          Var225          Var226          Var227     \n",
       " Min.   :1       Min.   :1.000   Min.   : 1.00   Min.   :1.000  \n",
       " 1st Qu.:1       1st Qu.:1.000   1st Qu.: 7.00   1st Qu.:5.000  \n",
       " Median :1       Median :2.000   Median :11.00   Median :5.000  \n",
       " Mean   :1       Mean   :1.635   Mean   :11.73   Mean   :4.819  \n",
       " 3rd Qu.:1       3rd Qu.:2.000   3rd Qu.:16.00   3rd Qu.:5.000  \n",
       " Max.   :1       Max.   :3.000   Max.   :23.00   Max.   :7.000  \n",
       " NA's   :49180   NA's   :26144                                  \n",
       "     Var228          Var229      appetency         churn        \n",
       " Min.   : 1.00   Min.   :1.000   Mode :logical   Mode :logical  \n",
       " 1st Qu.:14.00   1st Qu.:1.000   FALSE:49110     FALSE:46328    \n",
       " Median :14.00   Median :1.000   TRUE :890       TRUE :3672     \n",
       " Mean   :14.78   Mean   :1.463                                  \n",
       " 3rd Qu.:14.00   3rd Qu.:2.000                                  \n",
       " Max.   :30.00   Max.   :4.000                                  \n",
       "                 NA's   :28432                                  \n",
       " upselling      \n",
       " Mode :logical  \n",
       " FALSE:46318    \n",
       " TRUE :3682     \n",
       "                \n",
       "                \n",
       "                \n",
       "                "
      ]
     },
     "metadata": {},
     "output_type": "display_data"
    }
   ],
   "source": [
    "summary(dados)"
   ]
  },
  {
   "cell_type": "markdown",
   "metadata": {},
   "source": [
    "# Atualizando a lista de variáveis\n",
    "Como removemos as variáveis vazias do modelo é necessário atualizar a lista de variáveis válidas."
   ]
  },
  {
   "cell_type": "code",
   "execution_count": 18,
   "metadata": {
    "collapsed": true
   },
   "outputs": [],
   "source": [
    "variaveis <- setdiff(colnames(dados), resultados)"
   ]
  },
  {
   "cell_type": "markdown",
   "metadata": {},
   "source": [
    "# Divisão do conjunto de dados em treinamento e validação\n",
    "Os dados originais serão divididos em dois conjunto:\n",
    "\n",
    "- Treinamento, com 90% dos dados (45.000 dados)\n",
    "- Validação, com 10% dos dados (5.000 dados)\n",
    "\n",
    "A divisão será feita da mesma forma (com o mesmo seed) que os dados do modelo com tratamento por **vtreat**."
   ]
  },
  {
   "cell_type": "code",
   "execution_count": 19,
   "metadata": {},
   "outputs": [
    {
     "data": {
      "text/html": [
       "<ol class=list-inline>\n",
       "\t<li>45000</li>\n",
       "\t<li>215</li>\n",
       "</ol>\n"
      ],
      "text/latex": [
       "\\begin{enumerate*}\n",
       "\\item 45000\n",
       "\\item 215\n",
       "\\end{enumerate*}\n"
      ],
      "text/markdown": [
       "1. 45000\n",
       "2. 215\n",
       "\n",
       "\n"
      ],
      "text/plain": [
       "[1] 45000   215"
      ]
     },
     "metadata": {},
     "output_type": "display_data"
    },
    {
     "data": {
      "text/html": [
       "<ol class=list-inline>\n",
       "\t<li>5000</li>\n",
       "\t<li>215</li>\n",
       "</ol>\n"
      ],
      "text/latex": [
       "\\begin{enumerate*}\n",
       "\\item 5000\n",
       "\\item 215\n",
       "\\end{enumerate*}\n"
      ],
      "text/markdown": [
       "1. 5000\n",
       "2. 215\n",
       "\n",
       "\n"
      ],
      "text/plain": [
       "[1] 5000  215"
      ]
     },
     "metadata": {},
     "output_type": "display_data"
    }
   ],
   "source": [
    "# Número total de pontos de dados\n",
    "numeroDados <- nrow(dados)\n",
    "\n",
    "# Fixa semente para reproduzir resultados\n",
    "set.seed(42)\n",
    "\n",
    "# Define treino como 90% dos dados de treino e\n",
    "# validação como os 10% restantes\n",
    "tamanhoTreino <- floor(0.90 * numeroDados)\n",
    "\n",
    "# Gera uma amostra aleatória com 90% dos índices\n",
    "indicesTreino <- sample(seq_len(numeroDados), size = tamanhoTreino)\n",
    "\n",
    "# Divide os dados nos dois subgrupos\n",
    "# -indicesTreino são os 10% dos índices restantes\n",
    "dadosTreino <- dados[indicesTreino, ]\n",
    "dadosValidacao <- dados[-indicesTreino, ]\n",
    "\n",
    "# Dimensões dos dados de treino e validação\n",
    "dim(dadosTreino)\n",
    "dim(dadosValidacao)"
   ]
  },
  {
   "cell_type": "markdown",
   "metadata": {},
   "source": [
    "# Parâmetros\n",
    "Mantemos os parâmetros do **GXBoost** iguais ao modelo completo. A variável a tratar será *churn*."
   ]
  },
  {
   "cell_type": "code",
   "execution_count": 20,
   "metadata": {
    "collapsed": true
   },
   "outputs": [],
   "source": [
    "# Parâmetros do XGBoost\n",
    "params <- list(booster = \"gbtree\", objective = \"binary:logistic\",\n",
    "               eta=0.05, gamma=0, max_depth=6, min_child_weight=1,\n",
    "               subsample=1, colsample_bytree=1)\n",
    "resultado <- 'churn'\n",
    "rodadas <- 100\n",
    "xgbDados <- xgb.DMatrix(as.matrix(dadosTreino[variaveis]), label=dadosTreino[, resultado])"
   ]
  },
  {
   "cell_type": "code",
   "execution_count": 21,
   "metadata": {
    "collapsed": true
   },
   "outputs": [],
   "source": [
    "modelo <- xgboost(data=xgbDados,\n",
    "                  params=params,\n",
    "                  verbose=0,\n",
    "                  nrounds=rodadas)"
   ]
  },
  {
   "cell_type": "code",
   "execution_count": 22,
   "metadata": {},
   "outputs": [
    {
     "data": {
      "text/html": [
       "<table>\n",
       "<thead><tr><th></th><th scope=col>churn</th></tr></thead>\n",
       "<tbody>\n",
       "\t<tr><th scope=row>23</th><td>FALSE</td></tr>\n",
       "\t<tr><th scope=row>37</th><td>FALSE</td></tr>\n",
       "\t<tr><th scope=row>40</th><td> TRUE</td></tr>\n",
       "\t<tr><th scope=row>48</th><td>FALSE</td></tr>\n",
       "\t<tr><th scope=row>84</th><td>FALSE</td></tr>\n",
       "\t<tr><th scope=row>93</th><td>FALSE</td></tr>\n",
       "</tbody>\n",
       "</table>\n"
      ],
      "text/latex": [
       "\\begin{tabular}{r|l}\n",
       "  & churn\\\\\n",
       "\\hline\n",
       "\t23 & FALSE\\\\\n",
       "\t37 & FALSE\\\\\n",
       "\t40 &  TRUE\\\\\n",
       "\t48 & FALSE\\\\\n",
       "\t84 & FALSE\\\\\n",
       "\t93 & FALSE\\\\\n",
       "\\end{tabular}\n"
      ],
      "text/markdown": [
       "\n",
       "| <!--/--> | churn | \n",
       "|---|---|---|---|---|---|\n",
       "| 23 | FALSE | \n",
       "| 37 | FALSE | \n",
       "| 40 |  TRUE | \n",
       "| 48 | FALSE | \n",
       "| 84 | FALSE | \n",
       "| 93 | FALSE | \n",
       "\n",
       "\n"
      ],
      "text/plain": [
       "   churn\n",
       "23 FALSE\n",
       "37 FALSE\n",
       "40  TRUE\n",
       "48 FALSE\n",
       "84 FALSE\n",
       "93 FALSE"
      ]
     },
     "metadata": {},
     "output_type": "display_data"
    }
   ],
   "source": [
    "validacaoT <- dadosValidacao[resultado]\n",
    "head(validacaoT)"
   ]
  },
  {
   "cell_type": "code",
   "execution_count": 23,
   "metadata": {
    "collapsed": true
   },
   "outputs": [],
   "source": [
    "validacaoT[['previsao']] <- as.numeric(predict(modelo, as.matrix(dadosValidacao[variaveis])))"
   ]
  },
  {
   "cell_type": "code",
   "execution_count": 24,
   "metadata": {
    "collapsed": true
   },
   "outputs": [],
   "source": [
    "aucValidacao = auc(ifelse(validacaoT[, resultado] == TRUE, 1, 0), validacaoT['previsao'])"
   ]
  },
  {
   "cell_type": "code",
   "execution_count": 25,
   "metadata": {},
   "outputs": [
    {
     "name": "stdout",
     "output_type": "stream",
     "text": [
      "[1] \"AUC Validação (100): 0.7292\"\n"
     ]
    }
   ],
   "source": [
    "print(sprintf(\"AUC Validação (%d): %5.4f\", rodadas, aucValidacao))"
   ]
  },
  {
   "cell_type": "code",
   "execution_count": 26,
   "metadata": {},
   "outputs": [
    {
     "data": {
      "image/png": "[encoded data removed]",
      "text/plain": [
       "plot without title"
      ]
     },
     "metadata": {},
     "output_type": "display_data"
    }
   ],
   "source": [
    "print(ROCPlot(validacaoT, 'previsao', resultado, 1, title=paste('Dados de validação:', rodadas)))"
   ]
  },
  {
   "cell_type": "code",
   "execution_count": 27,
   "metadata": {},
   "outputs": [
    {
     "name": "stderr",
     "output_type": "stream",
     "text": [
      "Saving 7 x 7 in image\n"
     ]
    }
   ],
   "source": [
    "ggsave(\"baselineChurn.png\", plot=last_plot(), device=\"png\", scale=1)"
   ]
  },
  {
   "cell_type": "code",
   "execution_count": 28,
   "metadata": {},
   "outputs": [
    {
     "data": {
      "image/png": "[encoded data removed]",
      "text/plain": [
       "plot without title"
      ]
     },
     "metadata": {},
     "output_type": "display_data"
    }
   ],
   "source": [
    "print(DoubleDensityPlot(validacaoT, 'previsao', resultado, title=paste('Dados de validação:', rodadas)))"
   ]
  },
  {
   "cell_type": "code",
   "execution_count": 29,
   "metadata": {
    "scrolled": true
   },
   "outputs": [
    {
     "name": "stderr",
     "output_type": "stream",
     "text": [
      "Saving 7 x 7 in image\n"
     ]
    }
   ],
   "source": [
    "ggsave(\"baselineDDChurn.png\", plot=last_plot(), device=\"png\", scale=1)"
   ]
  }
 ],
 "metadata": {
  "kernelspec": {
   "display_name": "R",
   "language": "R",
   "name": "ir"
  },
  "language_info": {
   "codemirror_mode": "r",
   "file_extension": ".r",
   "mimetype": "text/x-r-source",
   "name": "R",
   "pygments_lexer": "r",
   "version": "3.4.3"
  }
 },
 "nbformat": 4,
 "nbformat_minor": 2
}
